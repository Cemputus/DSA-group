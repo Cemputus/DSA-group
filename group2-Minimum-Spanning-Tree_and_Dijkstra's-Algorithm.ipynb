{
 "cells": [
  {
   "cell_type": "markdown",
   "metadata": {},
   "source": [
    "# minimum spanning tree"
   ]
  },
  {
   "cell_type": "markdown",
   "metadata": {},
   "source": [
    "### Explanation of Minimum Spanning Tree (MST):\n",
    "A Minimum Spanning Tree (MST) is a subset of edges in a connected, undirected graph that connects all the vertices together with the minimum possible total edge weight. It forms a tree (without cycles) that spans all the vertices of the graph. MSTs find applications in various fields such as network design, transportation planning, and clustering.\n",
    "\n",
    "In an MST:\n",
    "\n",
    "All vertices are connected.\n",
    "There are no cycles.\n",
    "The total weight of the tree is minimized.\n",
    "MST algorithms ensure that the tree spans all vertices while minimizing the total edge weight. Some common algorithms for finding MSTs include Kruskal's algorithm and Prim's algorithm.\n",
    "\n"
   ]
  },
  {
   "cell_type": "code",
   "execution_count": null,
   "metadata": {},
   "outputs": [],
   "source": [
    "import networkx as nx\n",
    "\n",
    "# Create a graph\n",
    "G = nx.Graph()\n",
    "\n",
    "# Add edges with weights\n",
    "G.add_edge('A', 'B', weight=4)\n",
    "G.add_edge('B', 'C', weight=8)\n",
    "G.add_edge('C', 'D', weight=7)\n",
    "G.add_edge('D', 'E', weight=9)\n",
    "G.add_edge('E', 'F', weight=10)\n",
    "G.add_edge('F', 'G', weight=2)\n",
    "G.add_edge('G', 'H', weight=1)\n",
    "G.add_edge('H', 'A', weight=8)\n",
    "G.add_edge('H', 'B', weight=11)\n",
    "G.add_edge('H', 'I', weight=7)\n",
    "G.add_edge('I', 'C', weight=2)\n",
    "G.add_edge('I', 'G', weight=6)\n",
    "G.add_edge('I', 'D', weight=4)\n",
    "\n",
    "# Find the minimum spanning tree\n",
    "T = nx.minimum_spanning_tree(G)\n",
    "\n",
    "# Print edges in the minimum spanning tree\n",
    "for u, v, d in T.edges(data=True):\n",
    "    print(f\"({u}, {v}, {d['weight']})\")\n"
   ]
  },
  {
   "cell_type": "markdown",
   "metadata": {},
   "source": [
    "# shortest path using Dijkstra's algorithm"
   ]
  },
  {
   "cell_type": "markdown",
   "metadata": {},
   "source": [
    "### Explanation of Dijkstra's Algorithm:\n",
    "Dijkstra's algorithm is a popular graph traversal algorithm used to find the shortest path between two nodes in a graph with non-negative edge weights. It's commonly employed in various applications such as routing in computer networks, transportation networks, and more."
   ]
  },
  {
   "cell_type": "code",
   "execution_count": null,
   "metadata": {},
   "outputs": [],
   "source": [
    "import networkx as nx\n",
    "\n",
    "# Create a graph\n",
    "G = nx.Graph()\n",
    "\n",
    "# Add edges with weights\n",
    "G.add_edge('A', 'B', weight=4)\n",
    "G.add_edge('A', 'C', weight=2)\n",
    "G.add_edge('B', 'C', weight=5)\n",
    "G.add_edge('B', 'D', weight=10)\n",
    "G.add_edge('C', 'D', weight=3)\n",
    "G.add_edge('D', 'E', weight=7)\n",
    "G.add_edge('C', 'E', weight=1)\n",
    "\n",
    "# Find the shortest path using Dijkstra's algorithm\n",
    "shortest_path = nx.dijkstra_path(G, 'A', 'E', weight='weight')\n",
    "shortest_distance = nx.dijkstra_path_length(G, 'A', 'E', weight='weight')\n",
    "\n",
    "# Print the shortest path and distance\n",
    "print(\"Shortest Path:\", shortest_path)\n",
    "print(\"Shortest Distance:\", shortest_distance)\n"
   ]
  }
 ],
 "metadata": {
  "language_info": {
   "name": "python"
  }
 },
 "nbformat": 4,
 "nbformat_minor": 2
}
