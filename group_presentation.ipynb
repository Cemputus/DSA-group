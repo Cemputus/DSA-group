{
 "cells": [
  {
   "cell_type": "markdown",
   "metadata": {},
   "source": [
    "##### Question 1"
   ]
  },
  {
   "cell_type": "code",
   "execution_count": 3,
   "metadata": {},
   "outputs": [
    {
     "name": "stdout",
     "output_type": "stream",
     "text": [
      "['Navigated to www.google.com', 'Navigated to www.github.com', 'Navigated to www.yahoo.com', 'Navigated to www.ucu.com', 'Navigated to www.alcrosoft.com', 'Navigated to www.skype.com']\n",
      "Moved back to www.alcrosoft.com\n",
      "Moved back to www.ucu.com\n",
      "Moved forward to www.alcrosoft.com\n",
      "Navigated to www.3aschools.com\n",
      "Cannot go forward further\n"
     ]
    }
   ],
   "source": [
    "class BrowserStack:\n",
    "    def __init__(self):\n",
    "        self.history = []\n",
    "        self.future = []\n",
    "\n",
    "    def navigation(self, url):\n",
    "        self.history.append(url)\n",
    "        self.future = []\n",
    "        return f\"Navigated to {url}\"\n",
    "\n",
    "    def backward(self):\n",
    "        if len(self.history) > 1:\n",
    "            current_page = self.history.pop()\n",
    "            self.future.append(current_page)\n",
    "            return f\"Moved back to {self.history[-1]}\"\n",
    "        else:\n",
    "            return \"Cannot go backward further\"\n",
    "\n",
    "    def forward(self):\n",
    "        if self.future:\n",
    "            next_page = self.future.pop()\n",
    "            self.history.append(next_page)\n",
    "            return f\"Moved forward to {next_page}\"\n",
    "        else:\n",
    "            return \"Cannot go forward further\"\n",
    "\n",
    "\n",
    "pages = [\"www.google.com\", \"www.github.com\", \"www.yahoo.com\", \"www.ucu.com\", \"www.alcrosoft.com\", \"www.skype.com\"]\n",
    "browser = BrowserStack()\n",
    "print([browser.navigation(page) for page in pages])\n",
    "print(browser.backward())\n",
    "print(browser.backward())\n",
    "print(browser.forward())\n",
    "print(browser.navigation(\"www.3aschools.com\"))\n",
    "print(browser.forward())\n"
   ]
  },
  {
   "cell_type": "markdown",
   "metadata": {},
   "source": [
    "2. Consider a scenario where students are waiting in a queue at the university's student dining hall, implement a Python code that simulates a queue data structure for managing the student queue. Design a class named StudentQueue with methods to enqueue students Joining the queue, dequeue students being served, check if the queue is empty, and deterndne the current size of the queue. Provide an example (with output) usage of your Implemented class, demonstrating how students join the queue, get served, and how to ascertain the size of the queue l\n",
    "\n",
    "\n"
   ]
  },
  {
   "cell_type": "code",
   "execution_count": 1,
   "metadata": {},
   "outputs": [],
   "source": [
    "class StudentQueue:\n",
    "    def __init__(self):\n",
    "        \"\"\"\n",
    "        Initializes an empty student queue.\n",
    "        \"\"\"\n",
    "        self.queue = []\n",
    "\n",
    "    def enqueue(self, student_name):\n",
    "        \"\"\"\n",
    "        Adds a student to the end of the queue.\n",
    "        Args:\n",
    "            student_name (str): Name of the student joining the queue.\n",
    "        \"\"\"\n",
    "        self.queue.append(student_name)\n",
    "\n",
    "    def dequeue(self):\n",
    "        \"\"\"\n",
    "        Removes and returns the student at the front of the queue (being served).\n",
    "        Returns:\n",
    "            str: Name of the student being served.\n",
    "            None: If the queue is empty.\n",
    "        \"\"\"\n",
    "        if not self.is_empty():\n",
    "            return self.queue.pop(0)\n",
    "        else:\n",
    "            return None\n",
    "\n",
    "    def is_empty(self):\n",
    "        \"\"\"\n",
    "        Checks if the queue is empty.\n",
    "        Returns:\n",
    "            bool: True if the queue is empty, False otherwise.\n",
    "        \"\"\"\n",
    "        return len(self.queue) == 0\n",
    "\n",
    "    def get_queue_size(self):\n",
    "        \"\"\"\n",
    "        Returns the current size of the queue.\n",
    "        Returns:\n",
    "            int: Number of students in the queue.\n",
    "        \"\"\"\n",
    "        return len(self.queue)\n"
   ]
  },
  {
   "cell_type": "code",
   "execution_count": 4,
   "metadata": {},
   "outputs": [
    {
     "name": "stdout",
     "output_type": "stream",
     "text": [
      "Serving: Alice\n",
      "Serving: Bob\n",
      "Queue size: 1\n"
     ]
    }
   ],
   "source": [
    "\n",
    "# Example usage \n",
    "if __name__ == \"__main__\":\n",
    "    student_queue = StudentQueue()\n",
    "\n",
    "    # Students join the queue\n",
    "    for student in [\"Alice\", \"Bob\", \"Charlie\"]:\n",
    "        student_queue.enqueue(student)\n",
    "\n",
    "    # Serve two students \n",
    "    for i in range(2):\n",
    "        served_student = student_queue.dequeue()\n",
    "        print(f\"Serving: {served_student}\")\n",
    "\n",
    "    # Check queue size \n",
    "    print(f\"Queue size: {student_queue.get_queue_size()}\")\n"
   ]
  }
 ],
 "metadata": {
  "kernelspec": {
   "display_name": "Python 3",
   "language": "python",
   "name": "python3"
  },
  "language_info": {
   "codemirror_mode": {
    "name": "ipython",
    "version": 3
   },
   "file_extension": ".py",
   "mimetype": "text/x-python",
   "name": "python",
   "nbconvert_exporter": "python",
   "pygments_lexer": "ipython3",
   "version": "3.12.1"
  }
 },
 "nbformat": 4,
 "nbformat_minor": 2
}
